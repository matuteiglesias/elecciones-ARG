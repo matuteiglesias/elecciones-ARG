{
 "cells": [
  {
   "cell_type": "markdown",
   "metadata": {},
   "source": [
    "## GeoJSON Simplify"
   ]
  },
  {
   "cell_type": "code",
   "execution_count": 2,
   "metadata": {},
   "outputs": [],
   "source": [
    "import geopandas as gpd\n",
    "\n",
    "# Load GeoDataFrames\n",
    "provs = gpd.read_file('./../datos/info/provincia.json')\n",
    "dptos = gpd.read_file('./../datos/info/departamento.json')\n",
    "circs = gpd.read_file('./../datos/info/circuitos_dpto_prov.geojson')"
   ]
  },
  {
   "cell_type": "code",
   "execution_count": 3,
   "metadata": {},
   "outputs": [],
   "source": [
    "\n",
    "def simplify_geometries(gdf, tolerance, filename):\n",
    "    simplified_gdf = gdf.copy()\n",
    "\n",
    "    # Simplify the geometries\n",
    "    simplified_gdf['geometry'] = simplified_gdf['geometry'].apply(lambda geom: geom.simplify(tolerance))\n",
    "\n",
    "    # Save the simplified GeoDataFrame\n",
    "    simplified_gdf.to_file(filename, driver='GeoJSON')\n",
    "    \n",
    "    print(f'Saved simplified GeoDataFrame with tolerance {tolerance} to {filename}')\n"
   ]
  },
  {
   "cell_type": "code",
   "execution_count": 4,
   "metadata": {},
   "outputs": [
    {
     "name": "stdout",
     "output_type": "stream",
     "text": [
      "Saved simplified GeoDataFrame with tolerance 0.01 to ./../datos/geojson/provs_simplified_100.geojson\n",
      "Saved simplified GeoDataFrame with tolerance 0.0002 to ./../datos/geojson/dptos_simplified_2.geojson\n",
      "Saved simplified GeoDataFrame with tolerance 0.0001 to ./../datos/geojson/dptos_simplified_1.geojson\n",
      "Saved simplified GeoDataFrame with tolerance 0.0001 to ./../datos/geojson/circs_simplified_1.geojson\n"
     ]
    }
   ],
   "source": [
    "\n",
    "# Simplify provinces\n",
    "provs_tolerances = [0.01]\n",
    "for tolerance in provs_tolerances:\n",
    "    filename = f'./../datos/geojson/provs_simplified_{int(tolerance * 10000)}.geojson'\n",
    "    simplify_geometries(provs, tolerance, filename)\n",
    "\n",
    "# Simplify departments\n",
    "dptos_tolerances = [0.0002, 0.0001]\n",
    "for tolerance in dptos_tolerances:\n",
    "    filename = f'./../datos/geojson/dptos_simplified_{int(tolerance * 10000)}.geojson'\n",
    "    simplify_geometries(dptos, tolerance, filename)\n",
    "\n",
    "# Simplify circuits\n",
    "circuits_tolerances = [0.0001]\n",
    "for tolerance in circuits_tolerances:\n",
    "    filename = f'./../datos/geojson/circs_simplified_{int(tolerance * 10000)}.geojson'\n",
    "    simplify_geometries(circs, tolerance, filename)\n"
   ]
  },
  {
   "cell_type": "code",
   "execution_count": null,
   "metadata": {},
   "outputs": [],
   "source": []
  }
 ],
 "metadata": {
  "kernelspec": {
   "display_name": "base",
   "language": "python",
   "name": "python3"
  },
  "language_info": {
   "codemirror_mode": {
    "name": "ipython",
    "version": 3
   },
   "file_extension": ".py",
   "mimetype": "text/x-python",
   "name": "python",
   "nbconvert_exporter": "python",
   "pygments_lexer": "ipython3",
   "version": "3.9.13"
  },
  "orig_nbformat": 4
 },
 "nbformat": 4,
 "nbformat_minor": 2
}
